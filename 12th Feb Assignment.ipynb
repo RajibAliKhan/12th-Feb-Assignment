{
 "cells": [
  {
   "cell_type": "code",
   "execution_count": null,
   "id": "d84eae90-93eb-4f5a-8f68-fe0c0e175d2b",
   "metadata": {},
   "outputs": [],
   "source": [
    "# Answer of Q1 :"
   ]
  },
  {
   "cell_type": "code",
   "execution_count": null,
   "id": "c169dbd6-99da-41fe-8ef2-f29080b22635",
   "metadata": {},
   "outputs": [],
   "source": [
    "An exception is a Python object that represents an error in code.\n",
    "An exception is used during the execution of programs that disrupt the normal flow of execution. "
   ]
  },
  {
   "cell_type": "code",
   "execution_count": null,
   "id": "285cfa38-f26a-48a5-8e0c-5e544550ee42",
   "metadata": {},
   "outputs": [],
   "source": [
    "In case of exception, it is used when it disrupt the normal flow of a program,\n",
    "but in case of syntax error occurs when we are not following proper structure of a language. "
   ]
  },
  {
   "cell_type": "code",
   "execution_count": null,
   "id": "f6df30f4-5f03-4b47-9684-e0ce81869cd0",
   "metadata": {},
   "outputs": [],
   "source": [
    "# Answer of Q2 :"
   ]
  },
  {
   "cell_type": "code",
   "execution_count": null,
   "id": "19e7997c-9339-481d-a021-c78b93555075",
   "metadata": {},
   "outputs": [],
   "source": [
    "If an exception is not handled, the program should be terminated.\n",
    "It shows error message."
   ]
  },
  {
   "cell_type": "code",
   "execution_count": 2,
   "id": "d6479075-7f4b-4572-9729-c230f4a41473",
   "metadata": {},
   "outputs": [
    {
     "name": "stdin",
     "output_type": "stream",
     "text": [
      "Enter your first number 5\n",
      "Enter your second number 0\n"
     ]
    },
    {
     "ename": "ZeroDivisionError",
     "evalue": "division by zero",
     "output_type": "error",
     "traceback": [
      "\u001b[0;31m---------------------------------------------------------------------------\u001b[0m",
      "\u001b[0;31mZeroDivisionError\u001b[0m                         Traceback (most recent call last)",
      "Cell \u001b[0;32mIn[2], line 3\u001b[0m\n\u001b[1;32m      1\u001b[0m a \u001b[38;5;241m=\u001b[39m \u001b[38;5;28mint\u001b[39m(\u001b[38;5;28minput\u001b[39m(\u001b[38;5;124m'\u001b[39m\u001b[38;5;124mEnter your first number\u001b[39m\u001b[38;5;124m'\u001b[39m))\n\u001b[1;32m      2\u001b[0m b \u001b[38;5;241m=\u001b[39m \u001b[38;5;28mint\u001b[39m(\u001b[38;5;28minput\u001b[39m(\u001b[38;5;124m'\u001b[39m\u001b[38;5;124mEnter your second number\u001b[39m\u001b[38;5;124m'\u001b[39m))\n\u001b[0;32m----> 3\u001b[0m c \u001b[38;5;241m=\u001b[39m \u001b[43ma\u001b[49m\u001b[38;5;241;43m/\u001b[39;49m\u001b[43mb\u001b[49m\n\u001b[1;32m      4\u001b[0m \u001b[38;5;28mprint\u001b[39m(\u001b[38;5;124m'\u001b[39m\u001b[38;5;124mThe final result is :\u001b[39m\u001b[38;5;124m'\u001b[39m, c)\n",
      "\u001b[0;31mZeroDivisionError\u001b[0m: division by zero"
     ]
    }
   ],
   "source": [
    "# Example :\n",
    "\n",
    "a = int(input('Enter your first number'))\n",
    "b = int(input('Enter your second number'))\n",
    "c = a/b\n",
    "print('The final result is :', c)"
   ]
  },
  {
   "cell_type": "code",
   "execution_count": null,
   "id": "0d1898d2-b5e1-4fe3-be0e-175ca6c0a021",
   "metadata": {},
   "outputs": [],
   "source": [
    "# Answer of Q3 :"
   ]
  },
  {
   "cell_type": "code",
   "execution_count": null,
   "id": "e89c30ee-f0fc-4770-8328-189b40571934",
   "metadata": {},
   "outputs": [],
   "source": [
    "'Try and except' statements are used to catch and handle exception."
   ]
  },
  {
   "cell_type": "code",
   "execution_count": 3,
   "id": "a6647220-ba98-4f3d-b2b8-07eb96f22d1b",
   "metadata": {},
   "outputs": [
    {
     "name": "stdin",
     "output_type": "stream",
     "text": [
      "Enter your first number 5\n",
      "Enter your second number 0\n"
     ]
    },
    {
     "name": "stdout",
     "output_type": "stream",
     "text": [
      "This is invalid number.\n"
     ]
    }
   ],
   "source": [
    "# Example :\n",
    "\n",
    "try :\n",
    "    a = int(input('Enter your first number'))\n",
    "    b = int(input('Enter your second number'))\n",
    "    c = a/b\n",
    "    print('The answer division by b is', c)\n",
    "\n",
    "except(ZeroDivisionError, ValueError) :\n",
    "    print('This is invalid number.')    "
   ]
  },
  {
   "cell_type": "code",
   "execution_count": null,
   "id": "ec37c63e-660e-4b7b-a46b-020f7a1330fb",
   "metadata": {},
   "outputs": [],
   "source": [
    "# Answer of Q4 :"
   ]
  },
  {
   "cell_type": "code",
   "execution_count": null,
   "id": "49443b9e-13f0-4e65-96aa-47e7f2460360",
   "metadata": {},
   "outputs": [],
   "source": [
    "a. 'Try' and 'else' :\n",
    "    To handle exceptions we need to use 'try' and 'except' block.\n",
    "    If there is any mistake in 'try' block, it is not printed.\n",
    "    So, it pass to the next block 'except'.\n",
    "    If, 'try' block is correct then it does not move to except block.\n",
    "    'else' block is another block that executed after executing 'try' block.\n",
    "    'else' block executed only when try block is correct.        "
   ]
  },
  {
   "cell_type": "code",
   "execution_count": 4,
   "id": "017f291d-e546-4bb6-98fa-1c74129e5810",
   "metadata": {},
   "outputs": [
    {
     "name": "stdin",
     "output_type": "stream",
     "text": [
      "Enter your first number 5\n",
      "Enter your second number 1\n"
     ]
    },
    {
     "name": "stdout",
     "output_type": "stream",
     "text": [
      "Division by b is 5.0\n",
      "This is not invalid.\n"
     ]
    }
   ],
   "source": [
    "# Example :\n",
    "\n",
    "try :\n",
    "    a = int(input('Enter your first number'))\n",
    "    b = int(input('Enter your second number'))\n",
    "    c = a/b\n",
    "    print('Division by b is', c)\n",
    "\n",
    "except :\n",
    "    print('This is invalid.')\n",
    "    \n",
    "else :\n",
    "    print('This is not invalid.')"
   ]
  },
  {
   "cell_type": "code",
   "execution_count": null,
   "id": "0be616b4-a1e3-4fb6-b510-043c8a943081",
   "metadata": {},
   "outputs": [],
   "source": [
    "b. 'finally' :\n",
    "    'finally' will execute itself in any situation.\n",
    "    Whether the try block raises an error or not."
   ]
  },
  {
   "cell_type": "code",
   "execution_count": 5,
   "id": "07ae354c-34ad-4461-828c-dcd6fa5ecce2",
   "metadata": {},
   "outputs": [
    {
     "name": "stdin",
     "output_type": "stream",
     "text": [
      "Enter your first number 5\n",
      "Enter your second number 0\n"
     ]
    },
    {
     "name": "stdout",
     "output_type": "stream",
     "text": [
      "This is invalid.\n",
      "This must be printed in any situation.\n"
     ]
    }
   ],
   "source": [
    "# Example :\n",
    "\n",
    "try :\n",
    "    a = int(input('Enter your first number'))\n",
    "    b = int(input('Enter your second number'))\n",
    "    c = a/b\n",
    "    print('Division by b is', c)\n",
    "\n",
    "except :\n",
    "    print('This is invalid.')\n",
    "    \n",
    "else :\n",
    "    print('This is not invalid.')\n",
    "    \n",
    "finally :\n",
    "    print('This must be printed in any situation.')"
   ]
  },
  {
   "cell_type": "code",
   "execution_count": null,
   "id": "f9a955b4-4746-4019-b5e7-e75fc30b561d",
   "metadata": {},
   "outputs": [],
   "source": [
    "c. 'raise' :\n",
    "    There are lot of exception like custom exception that means this type of exception is not present in Python.\n",
    "    So, I have to create exception by using 'raise' statement."
   ]
  },
  {
   "cell_type": "code",
   "execution_count": 4,
   "id": "238ce7c6-fea6-4c17-8066-be2b5b1ea321",
   "metadata": {},
   "outputs": [
    {
     "name": "stdin",
     "output_type": "stream",
     "text": [
      "Enter your age:  566\n"
     ]
    },
    {
     "name": "stdout",
     "output_type": "stream",
     "text": [
      "Error: Age cannot be higher.\n"
     ]
    }
   ],
   "source": [
    "# Example :\n",
    "\n",
    "def validate_age(age):\n",
    "    if age < 0:\n",
    "        raise ValueError('Age cannot be negative.')\n",
    "    elif age > 200:\n",
    "        raise ValueError('Age cannot be higher.')\n",
    "\n",
    "try:\n",
    "    your_age = int(input('Enter your age: '))\n",
    "    validate_age(your_age)\n",
    "    print('Your age is valid.')\n",
    "except ValueError as e:\n",
    "    print('Error:', e)\n"
   ]
  },
  {
   "cell_type": "code",
   "execution_count": null,
   "id": "bd3ee1d2-ad89-4469-9e30-382baf0e0b8b",
   "metadata": {},
   "outputs": [],
   "source": [
    "# Answer of Q5 :"
   ]
  },
  {
   "cell_type": "code",
   "execution_count": null,
   "id": "d680059b-32df-4241-972e-f0c0cd117d84",
   "metadata": {},
   "outputs": [],
   "source": [
    "Custom Exception means create and raise our own exception.\n",
    "The user can define custom exceptions by creating a new class. \n",
    "This new exception class has to derive either directly or indirectly from the built-in class Exception. \n",
    "In Python, most of the built-in exceptions also derived from the Exception class."
   ]
  },
  {
   "cell_type": "code",
   "execution_count": null,
   "id": "b29a8f5a-fa51-4cfb-adb3-d53a955210e7",
   "metadata": {},
   "outputs": [],
   "source": [
    "We need Custom Exception to handle different types of exceptions, improve code clarity, handle different types of errors."
   ]
  },
  {
   "cell_type": "code",
   "execution_count": 7,
   "id": "7026ab8c-9a32-4e7c-b931-aba9321b538c",
   "metadata": {},
   "outputs": [
    {
     "name": "stdin",
     "output_type": "stream",
     "text": [
      "Enter your age 24\n"
     ]
    },
    {
     "name": "stdout",
     "output_type": "stream",
     "text": [
      "Age is valid.\n"
     ]
    }
   ],
   "source": [
    "# Example\n",
    "\n",
    "def Validate_age(age) :\n",
    "    if age < 0 :\n",
    "        raise('Age can not be negetive.')\n",
    "    elif age > 200 :\n",
    "        raise('Age can not be higher.')\n",
    "    else :\n",
    "        print('Age is valid.')\n",
    "        \n",
    "\n",
    "try :\n",
    "    age = int(input('Enter your age'))\n",
    "    Validate_age(age)\n",
    "except Validate_age as e :\n",
    "    print(e)        "
   ]
  },
  {
   "cell_type": "code",
   "execution_count": null,
   "id": "4795869d-01c6-44fc-b575-1b1d1cfb75af",
   "metadata": {},
   "outputs": [],
   "source": [
    "# Answer of Q6 :"
   ]
  },
  {
   "cell_type": "code",
   "execution_count": 13,
   "id": "feab5ae9-64d0-4770-8721-79f01bb128bb",
   "metadata": {},
   "outputs": [
    {
     "name": "stdin",
     "output_type": "stream",
     "text": [
      "Enter your transferable amount 8000\n"
     ]
    },
    {
     "name": "stdout",
     "output_type": "stream",
     "text": [
      "Please follow terms and conditions.\n"
     ]
    }
   ],
   "source": [
    "class Validate_money(Exception) :\n",
    "    def __init__(self, msg) :\n",
    "        self.msg = msg\n",
    "        \n",
    "def New_Validate_money(money) :\n",
    "    if money < 0 :\n",
    "        raise Validate_money('Money can not be in negetive value.')\n",
    "        \n",
    "    elif money > 1000 :\n",
    "        raise Validate_money('Money can not transferable.')\n",
    "        \n",
    "    else :\n",
    "        print('Money can be transferable')\n",
    "        \n",
    "try :\n",
    "    money = int(input('Enter your transferable amount'))\n",
    "    New_Validate_money(money)\n",
    "except :\n",
    "    print('Please follow terms and conditions.')"
   ]
  }
 ],
 "metadata": {
  "kernelspec": {
   "display_name": "Python 3 (ipykernel)",
   "language": "python",
   "name": "python3"
  },
  "language_info": {
   "codemirror_mode": {
    "name": "ipython",
    "version": 3
   },
   "file_extension": ".py",
   "mimetype": "text/x-python",
   "name": "python",
   "nbconvert_exporter": "python",
   "pygments_lexer": "ipython3",
   "version": "3.10.8"
  }
 },
 "nbformat": 4,
 "nbformat_minor": 5
}
